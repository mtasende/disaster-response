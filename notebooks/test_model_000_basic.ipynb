{
 "cells": [
  {
   "cell_type": "markdown",
   "metadata": {},
   "source": [
    "# Notebook to record the test of a particular model"
   ]
  },
  {
   "cell_type": "code",
   "execution_count": 1,
   "metadata": {},
   "outputs": [],
   "source": [
    "from sklearn.model_selection import train_test_split\n",
    "from time import time\n",
    "import sys\n",
    "sys.path.append('..')\n",
    "\n",
    "import models.train_classifier as tc"
   ]
  },
  {
   "cell_type": "code",
   "execution_count": 2,
   "metadata": {},
   "outputs": [],
   "source": [
    "# Input parameters\n",
    "database_filepath = '../data/DisasterResponse.db'\n",
    "model_filepath = '../models/classifier.pkl'\n",
    "\n",
    "# Model to test\n",
    "from models.model import Model\n",
    "current_model = Model()"
   ]
  },
  {
   "cell_type": "code",
   "execution_count": 3,
   "metadata": {},
   "outputs": [
    {
     "name": "stdout",
     "output_type": "stream",
     "text": [
      "Loading data...\n",
      "    DATABASE: ../data/DisasterResponse.db\n",
      "Building model...\n",
      "Hyperparameter Tuning...\n",
      "Hyperparameter tuning time: 4.00543212890625e-05 seconds\n",
      "Training model...\n",
      "Training time: 109.2086968421936 seconds\n",
      "Evaluating model...\n"
     ]
    },
    {
     "name": "stderr",
     "output_type": "stream",
     "text": [
      "/Users/antelinvestigacionydesarrollo/anaconda3/envs/data/lib/python3.6/site-packages/sklearn/metrics/classification.py:1135: UndefinedMetricWarning: Precision is ill-defined and being set to 0.0 in labels with no predicted samples.\n",
      "  'precision', 'predicted', average, warn_for)\n",
      "/Users/antelinvestigacionydesarrollo/anaconda3/envs/data/lib/python3.6/site-packages/sklearn/metrics/classification.py:1135: UndefinedMetricWarning: F-score is ill-defined and being set to 0.0 in labels with no predicted samples.\n",
      "  'precision', 'predicted', average, warn_for)\n"
     ]
    },
    {
     "name": "stdout",
     "output_type": "stream",
     "text": [
      "----------------------------------------------------------------------------------------------------\n",
      "                        accuracy        f1  precision    recall\n",
      "aid_centers             0.988940  0.497220   0.494470  0.500000\n",
      "aid_related             0.759153  0.744072   0.758395  0.739238\n",
      "buildings               0.958810  0.636452   0.861877  0.589692\n",
      "child_alone             1.000000  1.000000   1.000000  1.000000\n",
      "clothing                0.985889  0.647380   0.937556  0.590715\n",
      "cold                    0.979786  0.545737   0.740443  0.527718\n",
      "death                   0.962433  0.624190   0.910213  0.578697\n",
      "direct_report           0.843631  0.668413   0.791891  0.637683\n",
      "earthquake              0.968345  0.899926   0.929540  0.874972\n",
      "electricity             0.982265  0.506052   0.991131  0.505319\n",
      "fire                    0.989321  0.514557   0.661515  0.508898\n",
      "floods                  0.947368  0.723790   0.894733  0.663317\n",
      "food                    0.930397  0.791328   0.888438  0.740147\n",
      "hospitals               0.988749  0.497171   0.494375  0.500000\n",
      "infrastructure_related  0.936690  0.489601   0.580070  0.502346\n",
      "medical_help            0.921625  0.567604   0.781546  0.548566\n",
      "medical_products        0.955568  0.561855   0.912756  0.539700\n",
      "military                0.966819  0.560849   0.743829  0.538718\n",
      "missing_people          0.990084  0.497509   0.495042  0.500000\n",
      "money                   0.978452  0.542548   0.864400  0.525446\n",
      "offer                   0.995805  0.498949   0.497902  0.500000\n",
      "other_aid               0.864989  0.515396   0.704625  0.524848\n",
      "other_infrastructure    0.959764  0.489734   0.480340  0.499504\n",
      "other_weather           0.945843  0.545038   0.706530  0.531591\n",
      "refugees                0.966819  0.596073   0.822592  0.560741\n",
      "related                 0.796911  0.639988   0.677480  0.613489\n",
      "request                 0.881388  0.745783   0.843514  0.704251\n",
      "search_and_rescue       0.974447  0.546852   0.773477  0.528824\n",
      "security                0.982647  0.495624   0.491698  0.499612\n",
      "shelter                 0.934592  0.697296   0.870029  0.643260\n",
      "shops                   0.995042  0.498757   0.497616  0.499904\n",
      "storm                   0.931159  0.729083   0.854069  0.676906\n",
      "tools                   0.995805  0.498949   0.497902  0.500000\n",
      "transport               0.956712  0.554036   0.762812  0.535500\n",
      "water                   0.942029  0.636255   0.884421  0.591265\n",
      "weather_related         0.852212  0.792744   0.834112  0.769499\n",
      "----------------------------------------------------------------------------------------------------\n",
      "        accuracy         f1  precision     recall\n",
      "count  36.000000  36.000000  36.000000  36.000000\n",
      "mean    0.944736   0.611023   0.748093   0.591399\n",
      "std     0.057473   0.125772   0.164374   0.116448\n",
      "min     0.759153   0.489601   0.480340   0.499504\n",
      "25%     0.933734   0.504276   0.641154   0.504576\n",
      "50%     0.961098   0.561352   0.777512   0.539209\n",
      "75%     0.983457   0.675634   0.873627   0.639077\n",
      "max     1.000000   1.000000   1.000000   1.000000\n",
      "----------------------------------------------------------------------------------------------------\n",
      "Main metric [f1-score]: 0.6110225063251439\n",
      "----------------------------------------------------------------------------------------------------\n",
      "Evaluation time: 16.407981157302856 seconds\n",
      "Saving model...\n",
      "    MODEL: ../models/classifier.pkl\n",
      "Trained model saved!\n"
     ]
    }
   ],
   "source": [
    "print('Loading data...\\n    DATABASE: {}'.format(database_filepath))\n",
    "X, Y, category_names = current_model.load_data(database_filepath)\n",
    "X_train, X_test, Y_train, Y_test = train_test_split(X, Y, test_size=0.2)\n",
    "\n",
    "print('Building model...')\n",
    "model = current_model.build_model()\n",
    "\n",
    "print('Hyperparameter Tuning...')\n",
    "tic = time()\n",
    "model = current_model.tune_params(X_train, Y_train)\n",
    "toc = time()\n",
    "print('Hyperparameter tuning time: {} seconds'.format(toc - tic))\n",
    "\n",
    "print('Training model...')\n",
    "tic = time()\n",
    "model.fit(X_train, Y_train)\n",
    "toc = time()\n",
    "print('Training time: {} seconds'.format(toc - tic))\n",
    "\n",
    "print('Evaluating model...')\n",
    "tic = time()\n",
    "current_model.evaluate_model(model, X_test, Y_test, category_names)\n",
    "toc = time()\n",
    "print('Evaluation time: {} seconds'.format(toc - tic))\n",
    "\n",
    "print('Saving model...\\n    MODEL: {}'.format(model_filepath))\n",
    "current_model.save_model(model, model_filepath)\n",
    "\n",
    "print('Trained model saved!')"
   ]
  },
  {
   "cell_type": "code",
   "execution_count": null,
   "metadata": {},
   "outputs": [],
   "source": []
  }
 ],
 "metadata": {
  "kernelspec": {
   "display_name": "data",
   "language": "python",
   "name": "data"
  },
  "language_info": {
   "codemirror_mode": {
    "name": "ipython",
    "version": 3
   },
   "file_extension": ".py",
   "mimetype": "text/x-python",
   "name": "python",
   "nbconvert_exporter": "python",
   "pygments_lexer": "ipython3",
   "version": "3.6.5"
  }
 },
 "nbformat": 4,
 "nbformat_minor": 2
}
