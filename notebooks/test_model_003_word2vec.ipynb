{
 "cells": [
  {
   "cell_type": "markdown",
   "metadata": {},
   "source": [
    "# Notebook to record the test of a particular model"
   ]
  },
  {
   "cell_type": "code",
   "execution_count": 1,
   "metadata": {},
   "outputs": [],
   "source": [
    "from sklearn.model_selection import train_test_split\n",
    "from time import time\n",
    "import sys\n",
    "sys.path.append('..')\n",
    "\n",
    "import models.train_classifier as tc"
   ]
  },
  {
   "cell_type": "code",
   "execution_count": 2,
   "metadata": {},
   "outputs": [],
   "source": [
    "# Input parameters\n",
    "database_filepath = '../data/DisasterResponse.db'\n",
    "model_filepath = '../models/classifier.pkl'\n",
    "\n",
    "# Model to test\n",
    "from models.model_003_word2vec import Model003\n",
    "current_model = Model003()"
   ]
  },
  {
   "cell_type": "code",
   "execution_count": null,
   "metadata": {},
   "outputs": [
    {
     "name": "stdout",
     "output_type": "stream",
     "text": [
      "Loading data...\n",
      "    DATABASE: ../data/DisasterResponse.db\n",
      "Building model...\n",
      "Hyperparameter Tuning...\n",
      "Hyperparameter tuning time: 4.1961669921875e-05 seconds\n",
      "Training model...\n"
     ]
    }
   ],
   "source": [
    "print('Loading data...\\n    DATABASE: {}'.format(database_filepath))\n",
    "X, Y, category_names = current_model.load_data(database_filepath)\n",
    "X_train, X_test, Y_train, Y_test = train_test_split(X, Y, test_size=0.2)\n",
    "\n",
    "print('Building model...')\n",
    "model = current_model.build_model()\n",
    "\n",
    "print('Hyperparameter Tuning...')\n",
    "tic = time()\n",
    "model = current_model.tune_params(X_train, Y_train)\n",
    "toc = time()\n",
    "print('Hyperparameter tuning time: {} seconds'.format(toc - tic))\n",
    "\n",
    "print('Training model...')\n",
    "tic = time()\n",
    "model.fit(X_train, Y_train)\n",
    "toc = time()\n",
    "print('Training time: {} seconds'.format(toc - tic))\n",
    "\n",
    "print('Evaluating model...')\n",
    "tic = time()\n",
    "current_model.evaluate_model(model, X_test, Y_test, category_names)\n",
    "toc = time()\n",
    "print('Evaluation time: {} seconds'.format(toc - tic))\n",
    "\n",
    "print('Saving model...\\n    MODEL: {}'.format(model_filepath))\n",
    "current_model.save_model(model, model_filepath)\n",
    "\n",
    "print('Trained model saved!')"
   ]
  },
  {
   "cell_type": "code",
   "execution_count": null,
   "metadata": {},
   "outputs": [],
   "source": [
    "import numpy as np\n",
    "\n",
    "np.mean([np.array([1, 2, 3, 4]), np.array([1, 2, 3, 5])], axis=0)"
   ]
  },
  {
   "cell_type": "code",
   "execution_count": null,
   "metadata": {},
   "outputs": [],
   "source": [
    "np.stack([np.array([1, 2, 3, 4]), np.array([1, 2, 3, 5])], axis=0)"
   ]
  },
  {
   "cell_type": "code",
   "execution_count": null,
   "metadata": {},
   "outputs": [],
   "source": [
    "np.zeros(300).shape"
   ]
  },
  {
   "cell_type": "code",
   "execution_count": null,
   "metadata": {},
   "outputs": [],
   "source": []
  }
 ],
 "metadata": {
  "kernelspec": {
   "display_name": "data",
   "language": "python",
   "name": "data"
  },
  "language_info": {
   "codemirror_mode": {
    "name": "ipython",
    "version": 3
   },
   "file_extension": ".py",
   "mimetype": "text/x-python",
   "name": "python",
   "nbconvert_exporter": "python",
   "pygments_lexer": "ipython3",
   "version": "3.6.5"
  }
 },
 "nbformat": 4,
 "nbformat_minor": 2
}
