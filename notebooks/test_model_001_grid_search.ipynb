{
 "cells": [
  {
   "cell_type": "markdown",
   "metadata": {},
   "source": [
    "# Notebook to record the test of a particular model"
   ]
  },
  {
   "cell_type": "code",
   "execution_count": 1,
   "metadata": {},
   "outputs": [],
   "source": [
    "from sklearn.model_selection import train_test_split\n",
    "from time import time\n",
    "import sys\n",
    "sys.path.append('..')\n",
    "\n",
    "import models.train_classifier as tc"
   ]
  },
  {
   "cell_type": "code",
   "execution_count": 2,
   "metadata": {},
   "outputs": [],
   "source": [
    "# Input parameters\n",
    "database_filepath = '../data/DisasterResponse.db'\n",
    "model_filepath = '../models/classifier.pkl'\n",
    "\n",
    "# Model to test\n",
    "from models.model_001_grid_search import Model001\n",
    "current_model = Model001()"
   ]
  },
  {
   "cell_type": "code",
   "execution_count": 3,
   "metadata": {},
   "outputs": [
    {
     "name": "stdout",
     "output_type": "stream",
     "text": [
      "Loading data...\n",
      "    DATABASE: ../data/DisasterResponse.db\n",
      "Building model...\n",
      "Hyperparameter Tuning...\n",
      "Hyperparameter tuning time: 685.9095678329468 seconds\n",
      "Training model...\n",
      "Training time: 99.86733675003052 seconds\n",
      "Evaluating model...\n"
     ]
    },
    {
     "name": "stderr",
     "output_type": "stream",
     "text": [
      "/Users/antelinvestigacionydesarrollo/anaconda3/envs/data/lib/python3.6/site-packages/sklearn/metrics/classification.py:1135: UndefinedMetricWarning: Precision is ill-defined and being set to 0.0 in labels with no predicted samples.\n",
      "  'precision', 'predicted', average, warn_for)\n",
      "/Users/antelinvestigacionydesarrollo/anaconda3/envs/data/lib/python3.6/site-packages/sklearn/metrics/classification.py:1135: UndefinedMetricWarning: F-score is ill-defined and being set to 0.0 in labels with no predicted samples.\n",
      "  'precision', 'predicted', average, warn_for)\n"
     ]
    },
    {
     "name": "stdout",
     "output_type": "stream",
     "text": [
      "----------------------------------------------------------------------------------------------------\n",
      "                        accuracy        f1  precision    recall\n",
      "aid_centers             0.986842  0.496689   0.493421  0.500000\n",
      "aid_related             0.754767  0.739539   0.755181  0.734883\n",
      "buildings               0.951564  0.590635   0.843393  0.558793\n",
      "child_alone             1.000000  1.000000   1.000000  1.000000\n",
      "clothing                0.986079  0.576950   0.811589  0.545666\n",
      "cold                    0.980168  0.546711   0.721498  0.528445\n",
      "death                   0.963196  0.651946   0.872473  0.600475\n",
      "direct_report           0.848207  0.686544   0.803520  0.653163\n",
      "earthquake              0.957857  0.867430   0.927445  0.825074\n",
      "electricity             0.982265  0.525827   0.791315  0.515763\n",
      "fire                    0.990465  0.534641   0.828659  0.519512\n",
      "floods                  0.936690  0.695058   0.923913  0.636760\n",
      "food                    0.932876  0.782132   0.868983  0.734106\n",
      "hospitals               0.989703  0.497412   0.494946  0.499904\n",
      "infrastructure_related  0.930587  0.482023   0.466183  0.498978\n",
      "medical_help            0.919336  0.589230   0.765713  0.563505\n",
      "medical_products        0.953852  0.562086   0.827656  0.540437\n",
      "military                0.968154  0.545370   0.693678  0.529297\n",
      "missing_people          0.986842  0.510773   0.743514  0.507150\n",
      "money                   0.977307  0.510520   0.738836  0.508208\n",
      "offer                   0.994661  0.498662   0.497330  0.500000\n",
      "other_aid               0.861365  0.500649   0.654031  0.516663\n",
      "other_infrastructure    0.953089  0.487991   0.476908  0.499600\n",
      "other_weather           0.950610  0.545318   0.830029  0.530895\n",
      "refugees                0.963959  0.529834   0.718076  0.520387\n",
      "related                 0.806064  0.609868   0.693269  0.566286\n",
      "request                 0.884630  0.746492   0.851080  0.703214\n",
      "search_and_rescue       0.974256  0.552292   0.752557  0.532305\n",
      "security                0.979024  0.494700   0.489605  0.499903\n",
      "shelter                 0.926011  0.661285   0.868977  0.613801\n",
      "shops                   0.995423  0.498853   0.497712  0.500000\n",
      "storm                   0.937262  0.751811   0.845227  0.703463\n",
      "tools                   0.992754  0.498182   0.496377  0.500000\n",
      "transport               0.954805  0.572596   0.831156  0.546807\n",
      "water                   0.953280  0.727686   0.909099  0.664341\n",
      "weather_related         0.862128  0.810092   0.855677  0.785160\n",
      "----------------------------------------------------------------------------------------------------\n",
      "        accuracy         f1  precision     recall\n",
      "count  36.000000  36.000000  36.000000  36.000000\n",
      "mean    0.944058   0.607717   0.739973   0.588415\n",
      "std     0.056281   0.125836   0.153577   0.115060\n",
      "min     0.754767   0.482023   0.466183   0.498978\n",
      "25%     0.932304   0.508052   0.683460   0.507944\n",
      "50%     0.956331   0.557189   0.778514   0.536371\n",
      "75%     0.983219   0.688673   0.846690   0.640860\n",
      "max     1.000000   1.000000   1.000000   1.000000\n",
      "----------------------------------------------------------------------------------------------------\n",
      "Main metric [f1-score]: 0.607717403092794\n",
      "----------------------------------------------------------------------------------------------------\n",
      "Evaluation time: 19.339895963668823 seconds\n",
      "Saving model...\n",
      "    MODEL: ../models/classifier.pkl\n",
      "Trained model saved!\n"
     ]
    }
   ],
   "source": [
    "print('Loading data...\\n    DATABASE: {}'.format(database_filepath))\n",
    "X, Y, category_names = current_model.load_data(database_filepath)\n",
    "X_train, X_test, Y_train, Y_test = train_test_split(X, Y, test_size=0.2)\n",
    "\n",
    "print('Building model...')\n",
    "model = current_model.build_model()\n",
    "\n",
    "print('Hyperparameter Tuning...')\n",
    "tic = time()\n",
    "model = current_model.tune_params(X_train, Y_train)\n",
    "toc = time()\n",
    "print('Hyperparameter tuning time: {} seconds'.format(toc - tic))\n",
    "\n",
    "print('Training model...')\n",
    "tic = time()\n",
    "model.fit(X_train, Y_train)\n",
    "toc = time()\n",
    "print('Training time: {} seconds'.format(toc - tic))\n",
    "\n",
    "print('Evaluating model...')\n",
    "tic = time()\n",
    "current_model.evaluate_model(model, X_test, Y_test, category_names)\n",
    "toc = time()\n",
    "print('Evaluation time: {} seconds'.format(toc - tic))\n",
    "\n",
    "print('Saving model...\\n    MODEL: {}'.format(model_filepath))\n",
    "current_model.save_model(model, model_filepath)\n",
    "\n",
    "print('Trained model saved!')"
   ]
  },
  {
   "cell_type": "code",
   "execution_count": null,
   "metadata": {},
   "outputs": [],
   "source": []
  }
 ],
 "metadata": {
  "kernelspec": {
   "display_name": "data",
   "language": "python",
   "name": "data"
  },
  "language_info": {
   "codemirror_mode": {
    "name": "ipython",
    "version": 3
   },
   "file_extension": ".py",
   "mimetype": "text/x-python",
   "name": "python",
   "nbconvert_exporter": "python",
   "pygments_lexer": "ipython3",
   "version": "3.6.5"
  }
 },
 "nbformat": 4,
 "nbformat_minor": 2
}
