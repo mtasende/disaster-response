{
 "cells": [
  {
   "cell_type": "markdown",
   "metadata": {},
   "source": [
    "# Notebook to record the test of a particular model"
   ]
  },
  {
   "cell_type": "code",
   "execution_count": 1,
   "metadata": {},
   "outputs": [],
   "source": [
    "from sklearn.model_selection import train_test_split\n",
    "from time import time\n",
    "import sys\n",
    "sys.path.append('..')\n",
    "\n",
    "import models.train_classifier as tc"
   ]
  },
  {
   "cell_type": "code",
   "execution_count": 2,
   "metadata": {},
   "outputs": [],
   "source": [
    "# Input parameters\n",
    "database_filepath = '../data/DisasterResponse.db'\n",
    "model_filepath = '../models/classifier.pkl'\n",
    "\n",
    "# Model to test\n",
    "from models.model_003_word2vec import Model003\n",
    "current_model = Model003()"
   ]
  },
  {
   "cell_type": "code",
   "execution_count": 3,
   "metadata": {},
   "outputs": [
    {
     "name": "stdout",
     "output_type": "stream",
     "text": [
      "Loading data...\n",
      "    DATABASE: ../data/DisasterResponse.db\n",
      "Building model...\n",
      "Hyperparameter Tuning...\n",
      "Hyperparameter tuning time: 4.887580871582031e-05 seconds\n",
      "Training model...\n",
      "Found 13 non-convertible sentences. That is 0.061987411787144765% of the total.\n",
      "Training time: 128.65200304985046 seconds\n",
      "Evaluating model...\n",
      "Found 8 non-convertible sentences. That is 0.15255530129672007% of the total.\n"
     ]
    },
    {
     "name": "stderr",
     "output_type": "stream",
     "text": [
      "/Users/antelinvestigacionydesarrollo/anaconda3/envs/data/lib/python3.6/site-packages/sklearn/metrics/classification.py:1135: UndefinedMetricWarning: Precision is ill-defined and being set to 0.0 in labels with no predicted samples.\n",
      "  'precision', 'predicted', average, warn_for)\n",
      "/Users/antelinvestigacionydesarrollo/anaconda3/envs/data/lib/python3.6/site-packages/sklearn/metrics/classification.py:1135: UndefinedMetricWarning: F-score is ill-defined and being set to 0.0 in labels with no predicted samples.\n",
      "  'precision', 'predicted', average, warn_for)\n"
     ]
    },
    {
     "name": "stdout",
     "output_type": "stream",
     "text": [
      "----------------------------------------------------------------------------------------------------\n",
      "                        accuracy        f1  precision    recall\n",
      "aid_centers             0.987605  0.496882   0.493802  0.500000\n",
      "aid_related             0.713959  0.690561   0.719998  0.688397\n",
      "buildings               0.949847  0.538296   0.753722  0.526990\n",
      "child_alone             1.000000  1.000000   1.000000  1.000000\n",
      "clothing                0.985507  0.630956   0.861627  0.581868\n",
      "cold                    0.979024  0.520559   0.789693  0.513319\n",
      "death                   0.957285  0.583235   0.885337  0.552679\n",
      "direct_report           0.831808  0.638655   0.788077  0.614263\n",
      "earthquake              0.943745  0.778614   0.923503  0.715427\n",
      "electricity             0.974828  0.508330   0.820836  0.507421\n",
      "fire                    0.989703  0.497412   0.494851  0.500000\n",
      "floods                  0.930587  0.630394   0.830607  0.590446\n",
      "food                    0.915523  0.716734   0.856340  0.666202\n",
      "hospitals               0.990847  0.497701   0.495518  0.499904\n",
      "infrastructure_related  0.937452  0.486885   0.515070  0.500552\n",
      "medical_help            0.918002  0.561773   0.755843  0.545408\n",
      "medical_products        0.953852  0.573749   0.893939  0.547208\n",
      "military                0.965866  0.571102   0.787467  0.544859\n",
      "missing_people          0.988749  0.497171   0.494375  0.500000\n",
      "money                   0.977117  0.525458   0.711238  0.516319\n",
      "offer                   0.995805  0.498949   0.497902  0.500000\n",
      "other_aid               0.866133  0.497193   0.654714  0.514468\n",
      "other_infrastructure    0.957094  0.493441   0.578908  0.501854\n",
      "other_weather           0.951182  0.506275   0.643144  0.508959\n",
      "refugees                0.967010  0.491614   0.483689  0.499803\n",
      "related                 0.791762  0.641224   0.707931  0.599620\n",
      "request                 0.867468  0.686334   0.821658  0.648306\n",
      "search_and_rescue       0.971205  0.499231   0.652452  0.503137\n",
      "security                0.978070  0.494457   0.489128  0.499903\n",
      "shelter                 0.923532  0.635847   0.862281  0.594607\n",
      "shops                   0.996949  0.499236   0.498474  0.500000\n",
      "storm                   0.917620  0.629724   0.822821  0.592132\n",
      "tools                   0.992944  0.498230   0.496472  0.500000\n",
      "transport               0.956140  0.539542   0.884540  0.526784\n",
      "water                   0.937643  0.640901   0.881911  0.595503\n",
      "weather_related         0.836384  0.761828   0.831097  0.733761\n",
      "----------------------------------------------------------------------------------------------------\n",
      "        accuracy         f1  precision     recall\n",
      "count  36.000000  36.000000  36.000000  36.000000\n",
      "mean    0.938840   0.582180   0.713305   0.567503\n",
      "std     0.063669   0.110236   0.160144   0.099696\n",
      "min     0.713959   0.486885   0.483689   0.499803\n",
      "25%     0.922149   0.498098   0.510921   0.500414\n",
      "50%     0.956617   0.538919   0.754783   0.526887\n",
      "75%     0.980645   0.636549   0.837408   0.594831\n",
      "max     1.000000   1.000000   1.000000   1.000000\n",
      "----------------------------------------------------------------------------------------------------\n",
      "Main metric [f1-score]: 0.5821803828595264\n",
      "----------------------------------------------------------------------------------------------------\n",
      "Evaluation time: 9.02508282661438 seconds\n",
      "Saving model...\n",
      "    MODEL: ../models/classifier.pkl\n",
      "Trained model saved!\n"
     ]
    }
   ],
   "source": [
    "print('Loading data...\\n    DATABASE: {}'.format(database_filepath))\n",
    "X, Y, category_names = current_model.load_data(database_filepath)\n",
    "X_train, X_test, Y_train, Y_test = train_test_split(X, Y, test_size=0.2)\n",
    "\n",
    "print('Building model...')\n",
    "model = current_model.build_model()\n",
    "\n",
    "print('Hyperparameter Tuning...')\n",
    "tic = time()\n",
    "model = current_model.tune_params(X_train, Y_train)\n",
    "toc = time()\n",
    "print('Hyperparameter tuning time: {} seconds'.format(toc - tic))\n",
    "\n",
    "print('Training model...')\n",
    "tic = time()\n",
    "model.fit(X_train, Y_train)\n",
    "toc = time()\n",
    "print('Training time: {} seconds'.format(toc - tic))\n",
    "\n",
    "print('Evaluating model...')\n",
    "tic = time()\n",
    "current_model.evaluate_model(model, X_test, Y_test, category_names)\n",
    "toc = time()\n",
    "print('Evaluation time: {} seconds'.format(toc - tic))\n",
    "\n",
    "print('Saving model...\\n    MODEL: {}'.format(model_filepath))\n",
    "current_model.save_model(model, model_filepath)\n",
    "\n",
    "print('Trained model saved!')"
   ]
  },
  {
   "cell_type": "code",
   "execution_count": null,
   "metadata": {},
   "outputs": [],
   "source": []
  },
  {
   "cell_type": "code",
   "execution_count": null,
   "metadata": {},
   "outputs": [],
   "source": []
  },
  {
   "cell_type": "code",
   "execution_count": null,
   "metadata": {},
   "outputs": [],
   "source": []
  },
  {
   "cell_type": "code",
   "execution_count": null,
   "metadata": {},
   "outputs": [],
   "source": []
  }
 ],
 "metadata": {
  "kernelspec": {
   "display_name": "data",
   "language": "python",
   "name": "data"
  },
  "language_info": {
   "codemirror_mode": {
    "name": "ipython",
    "version": 3
   },
   "file_extension": ".py",
   "mimetype": "text/x-python",
   "name": "python",
   "nbconvert_exporter": "python",
   "pygments_lexer": "ipython3",
   "version": "3.6.5"
  }
 },
 "nbformat": 4,
 "nbformat_minor": 2
}
